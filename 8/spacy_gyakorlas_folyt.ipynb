{
 "metadata": {
  "language_info": {
   "codemirror_mode": {
    "name": "ipython",
    "version": 3
   },
   "file_extension": ".py",
   "mimetype": "text/x-python",
   "name": "python",
   "nbconvert_exporter": "python",
   "pygments_lexer": "ipython3",
   "version": "3.9.1"
  },
  "orig_nbformat": 2,
  "kernelspec": {
   "name": "python391jvsc74a57bd0b84c2d970653190f6ff42325a2892d12c901fcb7d34494d0bbe235517760655c",
   "display_name": "Python 3.9.1 64-bit"
  },
  "metadata": {
   "interpreter": {
    "hash": "b84c2d970653190f6ff42325a2892d12c901fcb7d34494d0bbe235517760655c"
   }
  }
 },
 "nbformat": 4,
 "nbformat_minor": 2,
 "cells": [
  {
   "source": [
    "# .similarity()"
   ],
   "cell_type": "markdown",
   "metadata": {}
  },
  {
   "cell_type": "code",
   "execution_count": 1,
   "metadata": {},
   "outputs": [],
   "source": [
    "import spacy\n",
    "\n",
    "nlp = spacy.load(\"en_core_web_md\")"
   ]
  },
  {
   "cell_type": "code",
   "execution_count": 10,
   "metadata": {},
   "outputs": [
    {
     "output_type": "stream",
     "name": "stdout",
     "text": [
      "I like salty fries and hamburgers <-> Fast food tastes very good 0.7375093578115288\nsalty fries <-> hamburgers 0.7304624\n"
     ]
    }
   ],
   "source": [
    "doc1 = nlp(\"I like salty fries and hamburgers\")\n",
    "doc2 = nlp(\"Fast food tastes very good\")\n",
    "\n",
    "# Similarity of two documents\n",
    "print(doc1, \"<->\", doc2, doc1.similarity(doc2))\n",
    "# Similarity of tokens and spans\n",
    "french_fries = doc1[2:4]\n",
    "burgers = doc1[5]\n",
    "print(french_fries, \"<->\", burgers, french_fries.similarity(burgers))"
   ]
  },
  {
   "cell_type": "code",
   "execution_count": null,
   "metadata": {},
   "outputs": [],
   "source": [
    "span1 = doc1[3:5]\n",
    "print(span1)"
   ]
  },
  {
   "cell_type": "code",
   "execution_count": 11,
   "metadata": {},
   "outputs": [
    {
     "output_type": "stream",
     "name": "stdout",
     "text": [
      "0.18169834 hamburgers very\n"
     ]
    }
   ],
   "source": [
    "lexemes1 = [token.lex for token in doc1]\n",
    "lexemes2 = [token.lex for token in doc2]\n",
    "\n",
    "similarity = 1.0\n",
    "for lexeme1 in range(0, len(lexemes1)):\n",
    "    for lexeme2 in range(0, len(lexemes2)):\n",
    "        if lexemes1[lexeme1].similarity(lexemes2[lexeme2]) < similarity:\n",
    "            similarity = lexemes1[lexeme1].similarity(lexemes2[lexeme2])\n",
    "            dissimilar1 = doc1[lexeme1]\n",
    "            dissimilar2 = doc2[lexeme2]\n",
    "\n",
    "print(similarity, dissimilar1, dissimilar2)"
   ]
  },
  {
   "source": [
    "# Vocab"
   ],
   "cell_type": "markdown",
   "metadata": {}
  },
  {
   "cell_type": "code",
   "execution_count": 24,
   "metadata": {},
   "outputs": [
    {
     "output_type": "stream",
     "name": "stdout",
     "text": [
      "3605013473689868444\n"
     ]
    }
   ],
   "source": [
    "print(doc1.vocab.strings[\"french\"])"
   ]
  },
  {
   "source": [
    "# NER"
   ],
   "cell_type": "markdown",
   "metadata": {}
  },
  {
   "cell_type": "code",
   "execution_count": 26,
   "metadata": {},
   "outputs": [
    {
     "output_type": "stream",
     "name": "stdout",
     "text": [
      "50 NUM CD\npercent NOUN NN\nof ADP IN\npatients NOUN NNS\nexposed VERB VBN\nto ADP IN\nradiation NOUN NN\nhave AUX VBP\nactivated VERB VBN\nmarkers NOUN NNS\nof ADP IN\nmesenchymal NOUN NN\nstem NOUN NN\ncells NOUN NNS\n. PUNCT .\n50 percent 0 10 PERCENT\n"
     ]
    }
   ],
   "source": [
    "nlp = spacy.load(\"en_core_web_md\")\n",
    "doc = nlp(\"50 percent of patients exposed to radiation have activated markers of mesenchymal stem cells.\")\n",
    "for token in doc:\n",
    "    print(token.text, token.pos_, token.tag_)\n",
    "\n",
    "for ent in doc.ents:\n",
    "    print(ent.text, ent.start_char, ent.end_char, ent.label_)"
   ]
  },
  {
   "cell_type": "code",
   "execution_count": null,
   "metadata": {},
   "outputs": [],
   "source": []
  }
 ]
}